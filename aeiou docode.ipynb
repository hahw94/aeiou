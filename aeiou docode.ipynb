{
 "cells": [
  {
   "cell_type": "code",
   "execution_count": 2,
   "metadata": {},
   "outputs": [
    {
     "name": "stderr",
     "output_type": "stream",
     "text": [
      "C:\\Users\\Seo\\.conda\\envs\\cuda\\lib\\site-packages\\sklearn\\preprocessing\\_encoders.py:414: FutureWarning: The handling of integer data will change in version 0.22. Currently, the categories are determined based on the range [0, max(values)], while in the future they will be determined based on the unique values.\n",
      "If you want the future behaviour and silence this warning, you can specify \"categories='auto'\".\n",
      "In case you used a LabelEncoder before this OneHotEncoder to convert the categories to integers, then you can now use the OneHotEncoder directly.\n",
      "  warnings.warn(msg, FutureWarning)\n"
     ]
    }
   ],
   "source": [
    "import numpy as np\n",
    "import matplotlib.pyplot as plt\n",
    "import tensorflow as tf\n",
    "from sklearn.preprocessing import OneHotEncoder\n",
    "\n",
    "tf.reset_default_graph()\n",
    "\n",
    "# 먼저 학습시킬데이터와 학습목표치 데이터를 위한 리스트를 만들어보았습니다.\n",
    "train_input = []\n",
    "train_label = []\n",
    "\n",
    "# a,e,i,o,u 15만개씩 있는데이터를 하나의 txt파일로 합쳐서 불러왔습니다.\n",
    "wav_all = np.loadtxt('75Raw_total.txt',np.float32)\n",
    "\n",
    "# 불러온 데이터를 reshape하여 20000개씩 잘라내서 데이터를 구분하였습니다.\n",
    "data_all = np.reshape(wav_all, [-1,20000])\n",
    "x_data = data_all\n",
    "\n",
    "# 여러 학습 형태를 돌려본 결과 1/5정도의 데이터 앞부분만으로도 어느정도 좋은 데이터를 불러올 수 있다고 생각하였습니다\n",
    "x_data = x_data[:,0:4096]\n",
    "\n",
    "# 학습목표치 데이터는 onehot방식 사용을 하기 위해서 0~4까지의 임의 목표치를 설정하였습니다.\n",
    "# a = 0, e = 1, i = 2, o = 3, u = 4 로 정했습니다.\n",
    "# while문을 사용하여 75개씩의 0,1,2,3,4 값을 가진 array를 만들었습니다.\n",
    "target_value = []\n",
    "\n",
    "while len(target_value) != 375:\n",
    "    number = 0\n",
    "    if len(target_value) == 75:\n",
    "        number = 1\n",
    "    elif len(target_value) == 150:\n",
    "        number = 2\n",
    "    elif len(target_value) == 225:\n",
    "        number = 3\n",
    "    elif len(target_value) == 300:\n",
    "        number = 4\n",
    "    else:\n",
    "        number = 0\n",
    "    for i in range(75):\n",
    "        target_value.append(number)\n",
    "    \n",
    "# 위에서처럼 75개씩의 0,1,2,3,4의 값을 가진 리스트를 다시 reshape하여 onehot방식으로 변환하였습니다.\n",
    "target_value = np.reshape(target_value,[-1,1])\n",
    "\n",
    "y_data = target_value\n",
    "\n",
    "enc = OneHotEncoder()\n",
    "enc.fit(y_data)\n",
    "y_data_onehot = enc.transform(y_data).toarray()\n",
    "\n",
    "# 위에서처럼 만든 데이터들을 train_input, train_label로 설정하여 학습을 진행하였습니다.\n",
    "train_input = x_data\n",
    "train_label = y_data_onehot"
   ]
  },
  {
   "cell_type": "code",
   "execution_count": 3,
   "metadata": {},
   "outputs": [
    {
     "name": "stdout",
     "output_type": "stream",
     "text": [
      "WARNING:tensorflow:From C:\\Users\\Seo\\.conda\\envs\\cuda\\lib\\site-packages\\tensorflow\\python\\framework\\op_def_library.py:263: colocate_with (from tensorflow.python.framework.ops) is deprecated and will be removed in a future version.\n",
      "Instructions for updating:\n",
      "Colocations handled automatically by placer.\n",
      "\n",
      "WARNING: The TensorFlow contrib module will not be included in TensorFlow 2.0.\n",
      "For more information, please see:\n",
      "  * https://github.com/tensorflow/community/blob/master/rfcs/20180907-contrib-sunset.md\n",
      "  * https://github.com/tensorflow/addons\n",
      "If you depend on functionality not listed there, please file an issue.\n",
      "\n"
     ]
    }
   ],
   "source": [
    "# 학습을 위한 신경망구조를 짜보았습니다.\n",
    "\n",
    "# 위에서 train_input data의 한 데이터가 4096(64*64)크기를 가지므로 아래처럼 placeholder의 크기를 지정하였습니다.\n",
    "\n",
    "# train_label은 5개의 목표치를 위한 onehot 방식의 array이기 때문에 참고하여 Y의 placeholder의 크기를 지정하였습니다.\n",
    "\n",
    "# 신경망은 leaky_relu방식을 사용하였으며 dropout(학습시 신경망의 일부분을 끄고 학습시키는것)을 사용하여 학습 능률을 높였습니다.\n",
    "\n",
    "# 풀링을 할때 2*2 필터로 풀링을 하면(padding=same으로하면 크기는 유지) 원래의 크기에서 반으로 주는것을 참고하였습니다.\n",
    "\n",
    "# 마지막 구분하는 신경망 구조를 만들때는 일반적으로 sigmoid(0~1)를 쓰지만 여기서는 목표치가 0,1,2,3,4 이기때문에 matmul을 사용했습니다.\n",
    "\n",
    "X = tf.placeholder(tf.float32, [None,4096])\n",
    "X_wav = tf.reshape(X, [-1,64,64,1])\n",
    "Y = tf.placeholder(tf.float32,[None,5])\n",
    "rate = tf.placeholder(tf.float32)\n",
    "\n",
    "W1 = tf.Variable(tf.random_normal([3, 3, 1, 32], stddev=0.01))\n",
    "# Conv -> (?, 64, 64, 32)\n",
    "# Pool -> (?, 32, 32, 32)\n",
    "L1 = tf.nn.conv2d(X_wav, W1, strides=[1, 1, 1, 1], padding='SAME')\n",
    "L1 = tf.nn.leaky_relu(L1)\n",
    "L1 = tf.nn.max_pool(L1, ksize=[1, 2, 2, 1], strides=[1, 2, 2, 1], padding='SAME')\n",
    "L1 = tf.nn.dropout(L1, rate=rate)\n",
    "\n",
    "\n",
    "W2 = tf.Variable(tf.random_normal([3, 3, 32, 64], stddev=0.01))\n",
    "# Conv ->(?, 32, 32, 64)\n",
    "# Pool ->(?, 16, 16, 64)\n",
    "L2 = tf.nn.conv2d(L1, W2, strides=[1, 1, 1, 1], padding='SAME')\n",
    "L2 = tf.nn.leaky_relu(L2)\n",
    "L2 = tf.nn.max_pool(L2, ksize=[1, 2, 2, 1], strides=[1, 2, 2, 1], padding='SAME')\n",
    "L2 = tf.nn.dropout(L2, rate=rate)\n",
    "\n",
    "\n",
    "\n",
    "W3 = tf.Variable(tf.random_normal([3, 3, 64, 128], stddev=0.01))\n",
    "# Conv ->(?, 16, 16, 64)\n",
    "# Pool ->(?, 8, 8, 64)\n",
    "L3 = tf.nn.conv2d(L2, W3, strides=[1, 1, 1, 1], padding='SAME')\n",
    "L3 = tf.nn.leaky_relu(L3)\n",
    "L3 = tf.nn.max_pool(L3, ksize=[1, 2, 2, 1], strides=[1, 2, 2, 1], padding='SAME')\n",
    "L3 = tf.nn.dropout(L3, rate=rate)\n",
    "\n",
    "\n",
    "\n",
    "W4 = tf.Variable(tf.random_normal([3, 3, 128, 64], stddev=0.01))\n",
    "# Conv ->(?, 8, 8, 64)\n",
    "# Pool ->(?, 4, 4, 64)\n",
    "L4 = tf.nn.conv2d(L3, W4, strides=[1, 1, 1, 1], padding='SAME')\n",
    "L4 = tf.nn.leaky_relu(L4)\n",
    "L4 = tf.nn.max_pool(L4, ksize=[1, 2, 2, 1], strides=[1, 2, 2, 1], padding='SAME')\n",
    "L4 = tf.nn.dropout(L4, rate=rate)\n",
    "\n",
    "L4 = tf.reshape(L4, [-1, 64 * 4 * 4])\n",
    "# reshape -> (?,64*4*4)\n",
    "\n",
    "W5 = tf.get_variable(\"W5\", shape=[64 * 4 * 4, 64], initializer=tf.contrib.layers.xavier_initializer())\n",
    "b5 = tf.Variable(tf.random_normal([64]))\n",
    "L5 = tf.nn.sigmoid(tf.matmul(L4, W5) + b5)\n",
    "L5 = tf.nn.dropout(L5, rate=rate)\n",
    "# sigmoid -> (?,64)\n",
    "\n",
    "W6 = tf.get_variable(\"W6\", shape=[64, 5], initializer=tf.contrib.layers.xavier_initializer())\n",
    "b6 = tf.Variable(tf.random_normal([5]))\n",
    "# shape -> (?,5)\n",
    "\n",
    "logits = tf.matmul(L5, W6) + b6"
   ]
  },
  {
   "cell_type": "code",
   "execution_count": 4,
   "metadata": {
    "scrolled": true
   },
   "outputs": [
    {
     "name": "stdout",
     "output_type": "stream",
     "text": [
      "WARNING:tensorflow:From <ipython-input-4-f9c9fb392c06>:3: softmax_cross_entropy_with_logits (from tensorflow.python.ops.nn_ops) is deprecated and will be removed in a future version.\n",
      "Instructions for updating:\n",
      "\n",
      "Future major versions of TensorFlow will allow gradients to flow\n",
      "into the labels input on backprop by default.\n",
      "\n",
      "See `tf.nn.softmax_cross_entropy_with_logits_v2`.\n",
      "\n",
      "학습을 시작합니다.\n",
      "Epoch: 0001 cost = 2.271681666\n",
      "Epoch: 0501 cost = 0.368571584\n",
      "Epoch: 1001 cost = 0.324208735\n",
      "Epoch: 1501 cost = 0.282435761\n",
      "Epoch: 2000 cost = 0.281722807\n",
      "학습이 종료되었습니다.\n"
     ]
    },
    {
     "data": {
      "text/plain": [
       "'\\n학습을 시작합니다.\\nEpoch: 0001 cost = 1.972215215\\nEpoch: 0501 cost = 0.322055269\\nEpoch: 1001 cost = 0.287063878\\nEpoch: 1501 cost = 0.280937931\\nEpoch: 2000 cost = 0.285464690\\n학습이 종료되었습니다.\\n'"
      ]
     },
     "execution_count": 4,
     "metadata": {},
     "output_type": "execute_result"
    }
   ],
   "source": [
    "# 학습을 해나가는 optimizer로 adam을 적용시켰습니다.\n",
    "\n",
    "cost = tf.reduce_mean(tf.nn.softmax_cross_entropy_with_logits(logits=logits, labels=Y))\n",
    "optimizer = tf.train.AdamOptimizer(learning_rate=0.001).minimize(cost)\n",
    "\n",
    "\n",
    "# 변수 초기화\n",
    "sess = tf.Session()\n",
    "sess.run(tf.global_variables_initializer())\n",
    "\n",
    "#batch_size는 125로 하였고 2000번의 epochs로 진행했습니다.\n",
    "batch_size = 125\n",
    "training_epochs = 2000\n",
    "\n",
    "print(\"학습을 시작합니다.\")\n",
    "\n",
    "for epoch in range(training_epochs):\n",
    "    avg_cost = 0\n",
    "    total_batch = int(375 // batch_size)\n",
    " \n",
    "\n",
    "        \n",
    "    for i in range(total_batch):\n",
    "        start = ((i+1) * batch_size) - batch_size\n",
    "        end = ((i+1) * batch_size)\n",
    "        batch_xs = train_input[start:end]\n",
    "        batch_ys = train_label[start:end]\n",
    "        feed_dict = {X: batch_xs, Y: batch_ys, rate : 0.3}\n",
    "        c, _ = sess.run([cost, optimizer], feed_dict=feed_dict)\n",
    "        avg_cost += c / total_batch\n",
    "        \n",
    "    if epoch % 500 == 0 or epoch == training_epochs-1:\n",
    "        print('Epoch:', '%04d' % (epoch + 1), 'cost =', '{:.9f}'.format(avg_cost))\n",
    "\n",
    " \n",
    "print('학습이 종료되었습니다.')"
   ]
  },
  {
   "cell_type": "code",
   "execution_count": 7,
   "metadata": {},
   "outputs": [
    {
     "name": "stdout",
     "output_type": "stream",
     "text": [
      "a,e,i - Accuracy: 1.0\n"
     ]
    }
   ],
   "source": [
    "correct_prediction = tf.equal(tf.argmax(logits, 1), tf.argmax(Y,1))\n",
    "accuracy = tf.reduce_mean(tf.cast(correct_prediction, tf.float32))\n",
    "\n",
    "print(\"a,e,i - Accuracy:\", sess.run(accuracy, feed_dict={X:train_input[0:225], Y:train_label[0:225],rate:0}))"
   ]
  },
  {
   "cell_type": "code",
   "execution_count": 8,
   "metadata": {},
   "outputs": [
    {
     "name": "stdout",
     "output_type": "stream",
     "text": [
      "o,u - Accuracy: 0.5\n"
     ]
    }
   ],
   "source": [
    "correct_prediction = tf.equal(tf.argmax(logits, 1), tf.argmax(Y,1))\n",
    "accuracy = tf.reduce_mean(tf.cast(correct_prediction, tf.float32))\n",
    "\n",
    "print(\"o,u - Accuracy:\", sess.run(accuracy, feed_dict={X:train_input[225:375], Y:train_label[225:375],rate:0}))"
   ]
  },
  {
   "cell_type": "code",
   "execution_count": 10,
   "metadata": {
    "scrolled": true
   },
   "outputs": [
    {
     "name": "stdout",
     "output_type": "stream",
     "text": [
      "\n",
      "Target:      [4]\n",
      "Prediction:  [4]\n",
      "\n",
      "Target:      [4]\n",
      "Prediction:  [4]\n",
      "\n",
      "Target:      [4]\n",
      "Prediction:  [4]\n",
      "\n",
      "Target:      [4]\n",
      "Prediction:  [4]\n",
      "\n",
      "Target:      [3]\n",
      "Prediction:  [3]\n",
      "\n",
      "Target:      [4]\n",
      "Prediction:  [3]\n",
      "\n",
      "Target:      [4]\n",
      "Prediction:  [4]\n",
      "\n",
      "Target:      [4]\n",
      "Prediction:  [4]\n",
      "\n",
      "Target:      [3]\n",
      "Prediction:  [4]\n",
      "\n",
      "Target:      [3]\n",
      "Prediction:  [4]\n"
     ]
    }
   ],
   "source": [
    "import random\n",
    "for j in range(0,10):\n",
    "    i = random.randint(225, 375)\n",
    "    print(\"\\nTarget:     \", sess.run(tf.argmax(train_label[i:i + 1], 1)))\n",
    "    print(\"Prediction: \", sess.run(\n",
    "        tf.argmax(logits, 1), feed_dict={X: train_input[i:i + 1], rate : 0}))"
   ]
  }
 ],
 "metadata": {
  "kernelspec": {
   "display_name": "cuda",
   "language": "python",
   "name": "cuda"
  },
  "language_info": {
   "codemirror_mode": {
    "name": "ipython",
    "version": 3
   },
   "file_extension": ".py",
   "mimetype": "text/x-python",
   "name": "python",
   "nbconvert_exporter": "python",
   "pygments_lexer": "ipython3",
   "version": "3.7.3"
  }
 },
 "nbformat": 4,
 "nbformat_minor": 2
}
